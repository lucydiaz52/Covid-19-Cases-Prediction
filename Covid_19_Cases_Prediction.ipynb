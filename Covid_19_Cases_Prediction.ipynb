{
  "cells": [
    {
      "cell_type": "code",
      "execution_count": null,
      "metadata": {
        "id": "VUdessNFQUYa"
      },
      "outputs": [],
      "source": [
        "import pandas as pd\n",
        "import numpy as np\n",
        "import matplotlib.pyplot as plt\n",
        "import plotly.express as px\n",
        "\n",
        "from fbprophet import Prophet\n",
        "from sklearn.metrics import r2_score\n",
        "\n",
        "plt.style.use(\"ggplot\")\n",
        "\n",
        "df0 = pd.read_csv(\"CONVENIENT_global_confirmed_cases.csv\")\n",
        "df1 = pd.read_csv(\"CONVENIENT_global_deaths.csv\")"
      ]
    },
    {
      "cell_type": "code",
      "execution_count": null,
      "metadata": {
        "id": "rlzMB5xgQaC6"
      },
      "outputs": [],
      "source": [
        "world = pd.DataFrame({\"Country\":[],\"Cases\":[]})\n",
        "world[\"Country\"] = df0.iloc[:,1:].columns\n",
        "cases = []\n",
        "for i in world[\"Country\"]:\n",
        "    cases.append(pd.to_numeric(df0[i][1:]).sum())\n",
        "world[\"Cases\"]=cases\n",
        "\n",
        "country_list=list(world[\"Country\"].values)\n",
        "idx = 0\n",
        "for i in country_list:\n",
        "    sayac = 0\n",
        "    for j in i:\n",
        "        if j==\".\":\n",
        "            i = i[:sayac]\n",
        "            country_list[idx]=i\n",
        "        elif j==\"(\":\n",
        "            i = i[:sayac-1]\n",
        "            country_list[idx]=i\n",
        "        else:\n",
        "            sayac += 1\n",
        "    idx += 1\n",
        "world[\"Country\"]=country_list\n",
        "world = world.groupby(\"Country\")[\"Cases\"].sum().reset_index()\n",
        "world.head()\n",
        "continent=pd.read_csv(\"continents2.csv\")\n",
        "continent[\"name\"]=continent[\"name\"].str.upper()"
      ]
    },
    {
      "cell_type": "code",
      "execution_count": null,
      "metadata": {
        "id": "YquLptdyQdHK"
      },
      "outputs": [],
      "source": [
        "world[\"Cases Range\"]=pd.cut(world[\"Cases\"],[-150000,50000,200000,800000,1500000,15000000],labels=[\"U50K\",\"50Kto200K\",\"200Kto800K\",\"800Kto1.5M\",\"1.5M+\"])\n",
        "alpha =[]\n",
        "for i in world[\"Country\"].str.upper().values:\n",
        "    if i == \"BRUNEI\":\n",
        "        i=\"BRUNEI DARUSSALAM\"\n",
        "    elif  i==\"US\":\n",
        "        i=\"UNITED STATES\"\n",
        "    if len(continent[continent[\"name\"]==i][\"alpha-3\"].values)==0:\n",
        "        alpha.append(np.nan)\n",
        "    else:\n",
        "        alpha.append(continent[continent[\"name\"]==i][\"alpha-3\"].values[0])\n",
        "world[\"Alpha3\"]=alpha\n",
        "\n",
        "fig = px.choropleth(world.dropna(),\n",
        "                   locations=\"Alpha3\",\n",
        "                   color=\"Cases Range\",\n",
        "                    projection=\"mercator\",\n",
        "                    color_discrete_sequence=[\"white\",\"khaki\",\"yellow\",\"orange\",\"red\"])\n",
        "fig.update_geos(fitbounds=\"locations\", visible=False)\n",
        "fig.update_layout(margin={\"r\":0,\"t\":0,\"l\":0,\"b\":0})\n",
        "fig.show()"
      ]
    },
    {
      "cell_type": "code",
      "execution_count": null,
      "metadata": {},
      "outputs": [],
      "source": [
        "count = []\n",
        "for i in range(1,len(df0)):\n",
        "    count.append(sum(pd.to_numeric(df0.iloc[i,1:].values)))\n",
        "\n",
        "df = pd.DataFrame()\n",
        "df[\"Date\"] = df0[\"Country/Region\"][1:]\n",
        "df[\"Cases\"] = count\n",
        "df=df.set_index(\"Date\")\n",
        "\n",
        "count = []\n",
        "for i in range(1,len(df1)):\n",
        "    count.append(sum(pd.to_numeric(df1.iloc[i,1:].values)))\n",
        "\n",
        "df[\"Deaths\"] = count\n",
        "\n",
        "df.Cases.plot(title=\"Daily Covid19 Cases in World\",marker=\".\",figsize=(10,5),label=\"daily cases\")\n",
        "df.Cases.rolling(window=5).mean().plot(figsize=(10,5),label=\"MA5\")\n",
        "plt.ylabel(\"Cases\")\n",
        "plt.legend()\n",
        "plt.show()"
      ]
    },
    {
      "cell_type": "code",
      "execution_count": null,
      "metadata": {},
      "outputs": [],
      "source": [
        "df.Deaths.plot(title=\"Daily Covid19 Deaths in World\",marker=\".\",figsize=(10,5),label=\"daily deaths\")\n",
        "df.Deaths.rolling(window=5).mean().plot(figsize=(10,5),label=\"MA5\")\n",
        "plt.ylabel(\"Deaths\")\n",
        "plt.legend()\n",
        "plt.show()"
      ]
    },
    {
      "cell_type": "code",
      "execution_count": null,
      "metadata": {},
      "outputs": [],
      "source": [
        "class Fbprophet(object):\n",
        "    def fit(self,data):\n",
        "        \n",
        "        self.data  = data\n",
        "        self.model = Prophet(weekly_seasonality=True,daily_seasonality=False,yearly_seasonality=False)\n",
        "        self.model.fit(self.data)\n",
        "    \n",
        "    def forecast(self,periods,freq):\n",
        "        \n",
        "        self.future = self.model.make_future_dataframe(periods=periods,freq=freq)\n",
        "        self.df_forecast = self.model.predict(self.future)\n",
        "        \n",
        "    def plot(self,xlabel=\"Years\",ylabel=\"Values\"):\n",
        "        \n",
        "        self.model.plot(self.df_forecast,xlabel=xlabel,ylabel=ylabel,figsize=(9,4))\n",
        "        self.model.plot_components(self.df_forecast,figsize=(9,6))\n",
        "        \n",
        "    def R2(self):\n",
        "        return r2_score(self.data.y, self.df_forecast.yhat[:len(df)])\n",
        "        \n",
        "df_fb  = pd.DataFrame({\"ds\":[],\"y\":[]})\n",
        "df_fb[\"ds\"] = pd.to_datetime(df.index)\n",
        "df_fb[\"y\"]  = df.iloc[:,0].values\n",
        "\n",
        "model = Fbprophet()\n",
        "model.fit(df_fb)\n",
        "model.forecast(30,\"D\")\n",
        "model.R2()\n",
        "\n",
        "forecast = model.df_forecast[[\"ds\",\"yhat_lower\",\"yhat_upper\",\"yhat\"]].tail(30).reset_index().set_index(\"ds\").drop(\"index\",axis=1)\n",
        "forecast[\"yhat\"].plot(marker=\".\",figsize=(10,5))\n",
        "plt.fill_between(x=forecast.index, y1=forecast[\"yhat_lower\"], y2=forecast[\"yhat_upper\"],color=\"gray\")\n",
        "plt.legend([\"forecast\",\"Bound\"],loc=\"upper left\")\n",
        "plt.title(\"Forecasting of Next 30 Days Cases\")\n",
        "plt.show()"
      ]
    }
  ],
  "metadata": {
    "colab": {
      "provenance": []
    },
    "kernelspec": {
      "display_name": "Python 3",
      "name": "python3"
    },
    "language_info": {
      "name": "python"
    }
  },
  "nbformat": 4,
  "nbformat_minor": 0
}
